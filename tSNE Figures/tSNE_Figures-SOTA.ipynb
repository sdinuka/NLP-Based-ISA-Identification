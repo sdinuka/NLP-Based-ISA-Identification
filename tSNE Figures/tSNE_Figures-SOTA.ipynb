{
 "cells": [
  {
   "cell_type": "markdown",
   "metadata": {},
   "source": [
    " ## t-SNE visualization of binary file data (Training Set) SOTA"
   ]
  },
  {
   "cell_type": "code",
   "execution_count": 1,
   "metadata": {},
   "outputs": [],
   "source": [
    "from sklearn.manifold import TSNE\n",
    "import matplotlib.pyplot as plt\n",
    "from mpl_toolkits.mplot3d import Axes3D\n",
    "import seaborn as sns\n",
    "from bioinfokit.visuz import cluster\n",
    "import copy \n",
    "import pandas as pd\n",
    "import os"
   ]
  },
  {
   "cell_type": "code",
   "execution_count": 2,
   "metadata": {},
   "outputs": [],
   "source": [
    "Set_name = '0'\n",
    "level = 'Decoded//'\n",
    "path = '//Users//dinuka//Dropbox//MURI-Dinuka//UW//Binary Classification//Simulations//1-gramTF_4Endian//'\n",
    "\n",
    "#os.chdir(path+level)\n",
    "\n",
    "#Load Training set \n",
    "train_file = path+level+'BinaryBlobData_SOTAfts-TrainSet-'+Set_name\n",
    "df_train = pd.read_pickle(train_file)\n",
    "    \n",
    "#Load Test set \n",
    "test_file = path+level+'BinaryBlobData_SOTAfts-TestSet-'+Set_name\n",
    "df_test = pd.read_pickle(test_file)\n",
    "\n",
    "\n",
    "#Train and Test labels\n",
    "y_train = df_train.pop(\"label\").values\n",
    "y_test = df_test.pop(\"label\").values\n",
    "\n",
    "#Train and Test data\n",
    "X_train = df_train.values\n",
    "X_test = df_test.values"
   ]
  },
  {
   "cell_type": "code",
   "execution_count": 8,
   "metadata": {},
   "outputs": [
    {
     "name": "stdout",
     "output_type": "stream",
     "text": [
      "[t-SNE] Computing 121 nearest neighbors...\n",
      "[t-SNE] Indexed 2856 samples in 0.022s...\n",
      "[t-SNE] Computed neighbors for 2856 samples in 2.437s...\n",
      "[t-SNE] Computed conditional probabilities for sample 1000 / 2856\n",
      "[t-SNE] Computed conditional probabilities for sample 2000 / 2856\n",
      "[t-SNE] Computed conditional probabilities for sample 2856 / 2856\n",
      "[t-SNE] Mean sigma: 3.952316\n",
      "[t-SNE] KL divergence after 250 iterations with early exaggeration: 71.680023\n",
      "[t-SNE] KL divergence after 300 iterations: 1.342157\n"
     ]
    }
   ],
   "source": [
    "tsne_train = TSNE(n_components=2, verbose=1, perplexity=40, n_iter=300, random_state = 1234)\n",
    "tsne_results_train = tsne_train.fit_transform(X_train)\n",
    "cluster.tsneplot(score=tsne_results_train, colorlist=y_train, colordot=('#e6194b','#a9a9a9','#ffe119','#bfef45','#911eb4','#42d4f4','#4363d8','#f58231','#f032e6','#800000','#3cb44b','#ffd8b1'), legendpos='upper right', legendanchor=(1.28, 0.9))"
   ]
  },
  {
   "cell_type": "code",
   "execution_count": 6,
   "metadata": {},
   "outputs": [
    {
     "name": "stdout",
     "output_type": "stream",
     "text": [
      "['s390', 'mipsel', 'x86_64', 'powerpc', 'sparc', 'xtensa', 'm68k', 'alphaev56', 'mips', 'sh4', 'arm', 'avr']\n"
     ]
    }
   ],
   "source": [
    "print(list(set(y_train)))"
   ]
  },
  {
   "cell_type": "code",
   "execution_count": null,
   "metadata": {},
   "outputs": [],
   "source": []
  },
  {
   "cell_type": "code",
   "execution_count": null,
   "metadata": {},
   "outputs": [],
   "source": []
  }
 ],
 "metadata": {
  "kernelspec": {
   "display_name": "Python 3",
   "language": "python",
   "name": "python3"
  },
  "language_info": {
   "codemirror_mode": {
    "name": "ipython",
    "version": 3
   },
   "file_extension": ".py",
   "mimetype": "text/x-python",
   "name": "python",
   "nbconvert_exporter": "python",
   "pygments_lexer": "ipython3",
   "version": "3.8.3"
  }
 },
 "nbformat": 4,
 "nbformat_minor": 4
}
