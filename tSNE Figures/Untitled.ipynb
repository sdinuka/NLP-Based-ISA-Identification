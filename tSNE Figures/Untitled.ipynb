{
 "cells": [
  {
   "cell_type": "markdown",
   "metadata": {},
   "source": [
    "# gcd(a, b) = k\n",
    "# a = km\n",
    "# b = kn"
   ]
  },
  {
   "cell_type": "markdown",
   "metadata": {},
   "source": [
    "# gcd(x-y, n) = 985739879\n",
    "##  x-y = 985739879 * a_1\n",
    "## n = 985739879 * a_2\n",
    "\n",
    "# gcd(x+y, n) = 1388749507\n",
    "##  x+y =1388749507 * a_3\n",
    "## n = 1388749507 * a_4"
   ]
  },
  {
   "cell_type": "markdown",
   "metadata": {},
   "source": [
    "# x = [(985739879 * a) + 1388749507 * b]/2\n",
    "# y = [1388749507 * b - 985739879 * a]/2"
   ]
  },
  {
   "cell_type": "code",
   "execution_count": 17,
   "metadata": {},
   "outputs": [
    {
     "name": "stdout",
     "output_type": "stream",
     "text": [
      "1187244693\n"
     ]
    }
   ],
   "source": [
    "x = int((985739879+1388749507)/2)\n",
    "print(x)"
   ]
  },
  {
   "cell_type": "code",
   "execution_count": 18,
   "metadata": {},
   "outputs": [
    {
     "name": "stdout",
     "output_type": "stream",
     "text": [
      "201504814\n"
     ]
    }
   ],
   "source": [
    "y = int((1388749507- 985739879)/2)\n",
    "print(y)"
   ]
  },
  {
   "cell_type": "code",
   "execution_count": 27,
   "metadata": {},
   "outputs": [
    {
     "name": "stdout",
     "output_type": "stream",
     "text": [
      "985739879\n",
      "1388749507\n"
     ]
    }
   ],
   "source": [
    "n = 985739879*1388749507\n",
    "import math\n",
    "\n",
    "print(math.gcd(x-y,n))\n",
    "print(math.gcd(x+y,n))"
   ]
  },
  {
   "cell_type": "code",
   "execution_count": 36,
   "metadata": {},
   "outputs": [
    {
     "name": "stdout",
     "output_type": "stream",
     "text": [
      "1 1\n",
      "1 3\n",
      "1 5\n",
      "1 7\n",
      "1 9\n",
      "2 2\n",
      "2 4\n",
      "2 6\n",
      "2 8\n",
      "3 1\n",
      "3 3\n",
      "3 5\n",
      "3 7\n",
      "3 9\n",
      "4 2\n",
      "4 4\n",
      "4 6\n",
      "4 8\n",
      "5 1\n",
      "5 3\n",
      "5 5\n",
      "5 7\n",
      "5 9\n",
      "6 2\n",
      "6 4\n",
      "6 6\n",
      "6 8\n",
      "7 1\n",
      "7 3\n",
      "7 5\n",
      "7 7\n",
      "7 9\n",
      "8 2\n",
      "8 4\n",
      "8 6\n",
      "8 8\n",
      "9 1\n",
      "9 3\n",
      "9 5\n",
      "9 7\n",
      "9 9\n"
     ]
    }
   ],
   "source": [
    "for a in range(1,10):\n",
    "    for b in range(1,10):\n",
    "        x = int((985739879*a + 1388749507*b)/2)\n",
    "        y = int((1388749507*b - 985739879*a)/2)\n",
    "        if math.gcd(x-y,n) ==  985739879 and math.gcd(x+y,n) == 1388749507:\n",
    "            print(a,b)"
   ]
  },
  {
   "cell_type": "code",
   "execution_count": 24,
   "metadata": {},
   "outputs": [
    {
     "name": "stdout",
     "output_type": "stream",
     "text": [
      "9 1\n"
     ]
    }
   ],
   "source": [
    "print(a,b)"
   ]
  },
  {
   "cell_type": "code",
   "execution_count": 25,
   "metadata": {},
   "outputs": [
    {
     "name": "stdout",
     "output_type": "stream",
     "text": [
      "5130204209 -3741454702\n"
     ]
    }
   ],
   "source": [
    "print(x,y)"
   ]
  },
  {
   "cell_type": "code",
   "execution_count": 33,
   "metadata": {},
   "outputs": [
    {
     "name": "stdout",
     "output_type": "stream",
     "text": [
      "<itertools.product object at 0x7fae64752ec0>\n"
     ]
    }
   ],
   "source": [
    "from itertools import product\n",
    "\n",
    "x = product([1, 2, 3], [4, 5])\n",
    "print(x)"
   ]
  },
  {
   "cell_type": "code",
   "execution_count": null,
   "metadata": {},
   "outputs": [],
   "source": []
  }
 ],
 "metadata": {
  "kernelspec": {
   "display_name": "Python 3",
   "language": "python",
   "name": "python3"
  },
  "language_info": {
   "codemirror_mode": {
    "name": "ipython",
    "version": 3
   },
   "file_extension": ".py",
   "mimetype": "text/x-python",
   "name": "python",
   "nbconvert_exporter": "python",
   "pygments_lexer": "ipython3",
   "version": "3.8.3"
  }
 },
 "nbformat": 4,
 "nbformat_minor": 4
}
